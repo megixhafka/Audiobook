{
 "cells": [
  {
   "attachments": {},
   "cell_type": "markdown",
   "metadata": {},
   "source": [
    "# Create an Audiobook from a PDF\n",
    "## Apply Text to Speech conversion and Extraction of Text from PDF files in the creation of an audiobook from a PDF file"
   ]
  },
  {
   "attachments": {},
   "cell_type": "markdown",
   "metadata": {},
   "source": [
    "### Steps\n",
    "- Extract text from PDF file\n",
    "- Clean the text\n",
    "- Convert the text into speech\n",
    "- Save the speech\n",
    "- Play the speech"
   ]
  },
  {
   "attachments": {},
   "cell_type": "markdown",
   "metadata": {},
   "source": [
    "## 1. Extract text from PDF\n",
    "- Use PyPDF2"
   ]
  },
  {
   "attachments": {},
   "cell_type": "markdown",
   "metadata": {},
   "source": [
    "### Install the library"
   ]
  },
  {
   "cell_type": "code",
   "execution_count": 1,
   "metadata": {},
   "outputs": [
    {
     "name": "stdout",
     "output_type": "stream",
     "text": [
      "Collecting PyPDF2\n",
      "  Downloading pypdf2-3.0.1-py3-none-any.whl (232 kB)\n",
      "     ---------------------------------------- 0.0/232.6 kB ? eta -:--:--\n",
      "     -------------------------------------- 232.6/232.6 kB 4.7 MB/s eta 0:00:00\n",
      "Requirement already satisfied: typing_extensions>=3.10.0.0 in c:\\users\\user\\anaconda3\\lib\\site-packages (from PyPDF2) (4.4.0)\n",
      "Installing collected packages: PyPDF2\n",
      "Successfully installed PyPDF2-3.0.1\n"
     ]
    }
   ],
   "source": [
    "! pip install PyPDF2"
   ]
  },
  {
   "attachments": {},
   "cell_type": "markdown",
   "metadata": {},
   "source": [
    "### Import the library"
   ]
  },
  {
   "cell_type": "code",
   "execution_count": 2,
   "metadata": {},
   "outputs": [],
   "source": [
    "import PyPDF2"
   ]
  },
  {
   "attachments": {},
   "cell_type": "markdown",
   "metadata": {},
   "source": [
    "### Extract the text"
   ]
  },
  {
   "cell_type": "code",
   "execution_count": 8,
   "metadata": {},
   "outputs": [],
   "source": [
    "pdf_file = open('project.pdf', 'rb')"
   ]
  },
  {
   "cell_type": "code",
   "execution_count": 10,
   "metadata": {},
   "outputs": [],
   "source": [
    "pdf_reader = PyPDF2.PdfReader(pdf_file)"
   ]
  },
  {
   "cell_type": "code",
   "execution_count": 13,
   "metadata": {},
   "outputs": [],
   "source": [
    "num_pages = len(pdf_reader.pages)"
   ]
  },
  {
   "cell_type": "code",
   "execution_count": 14,
   "metadata": {},
   "outputs": [],
   "source": [
    "text = \"\""
   ]
  },
  {
   "cell_type": "code",
   "execution_count": 18,
   "metadata": {},
   "outputs": [],
   "source": [
    "for i in range(num_pages):\n",
    "    page = pdf_reader.pages[i]\n",
    "    text += page.extract_text()"
   ]
  },
  {
   "attachments": {},
   "cell_type": "markdown",
   "metadata": {},
   "source": [
    "### Print the extracted text"
   ]
  },
  {
   "cell_type": "code",
   "execution_count": 20,
   "metadata": {},
   "outputs": [
    {
     "data": {
      "text/plain": [
       "' \\n \\n                   \\nSCHOOL  OF COMPUTER  TECHNOLOGY  \\n \\nAASD 400 5 Advanced  Mathematical Concepts for Machine Learning  \\n \\n \\nTerm Project:  Frequency and spatial domain methods for image \\nenhancement  \\n \\nPart 1:  \\nYou are a Computer Vision scientist, and you have been  asked by a chief police officer \\nto help identify a license plate number from a photo of a suspect\\'s car. The photo is a \\ncopy of a newspaper print affected by a regular pattern of noise, and the license plate \\nnumber is hardly visible.  \\nYour solution strateg y is application of the Discrete Fourier Transform and figuring out \\nan appropriate filter in the frequency domain for periodic noise suppression. You will \\nthen perform post -processing techniques to further improve image contrast.  \\n1. Download an image \"car.png \", convert it to greyscale and open for viewing. \\nLeave comments on image operations that you perform.  \\n2. Calculate the Discrete Fourier transform of the car image, shift the origin of \\nthe image domain to the center, and calculate the magnitude of the Fourier \\ntransform. Do not forget to apply a logarithmic transformation in order to \\nsuppress a large dynamic range of the magnitude and to make it visible. \\nVisualize the input image and the magnitude.  \\n3. Notice that white peaks in the Fourier domain capture periodic n oise present in \\nthe original image. Work with log -transformed magnitude to find the \\ncoordinates of local maxima of this function using \"peak_local_max\" function \\ngiven below.  \\n \\n \\nWhat is min_distance? Try to give it a reasonable estimate from the image of \\nmagnitude. Familiarize yourself with the parameters of this function from this \\nsource :  \\n4. You want to clean the original image in the Fourier domain such that its \\nmagnitude only has a single bright \"star\" in the center. Given below is a  script \\nthat helps you experiment with the width of the filter (2L+1 x 2L+1) that covers \\nfrequency components of the periodic noise that we want to remove. Vary \\ndifferent Ls and visualize your results. Explain your final choice of L. Define \\nvalues of modif ied magnitude (new) and shifted Fourier transform at each point \\n(u,v) and explain your definitions.    \\n \\n \\n5. Perform the inverse Fourier transform (using modified frequency components) to \\nget the image back. Visualize your result.  \\n6. Is your restored image in the same intensity range as the original? If not, scale \\nintensities to the range [0, 255].  You can use the following line of code : \\n \\n \\n7. What filter is known for its ability to remove localized noise in the Fourier domain? \\nWhat mathematical operation have you performed between the magnitude and \\nthe filter that you have designed in order to suppress noise?    \\n8. Have you been able to better see the license plate number  in the reconstructed \\nimage? What other image quality improvements do you think are needed?  \\nImage post -processing  \\nRemark : You cannot perform image intensity transformations if you r final image \\nintensities are not scaled to the range [0, 255]  \\n9. Examine the histogram distribution of reconstructed car image intensities and \\napply intensity transformation of your choice in order to increase contrast. \\nVisualize your results and compare intensity histograms before and after the \\ntransformation.  \\n10. Choose a midpoint around which you want to stretch contrast (examine the \\nintensity histogram of your previous result 9.) and program a contrast stretching \\nfunction \"cs\" in the code below. Consult course  notes for its formula and choose \\nthe best values of parameters m and E. Have you achieved a better contrast than \\nin the Fourier -reconstructed image?   \\n11.  Perform image smoothing using averaging filter to the resulting image 10. and \\ndiscuss advantages and drawbacks of this operation in the context of this problem \\n(remember that we are after the license plate number). Visualize your results. \\nWhen running mean  (image, dis k(..)) line of code, what kind of a  mathematical \\noperation performs image smoothing?  \\nPart 2:  \\nOtsu\\'s and moving average threshold processing methods . \\n12.  Apply Otsu\\'s method to create a thresholded image of a hand -written text \\naffected by uneven illumination (\"moving_average.png\"). Create visualizations \\nof original and thresholded images and explain based on the histogram of \\nintensities why it performed so poorly.  \\n \\n \\n13. A more powerful approach to recovering a hand -written text degraded by \\nuneven illumination is a so -called moving average thresholding. In this part of \\nyour p roject, you will be researching online publications on this method and \\nproviding with the following findings:  \\n- Concise summary of this method (an idea behind it and what type of \\nproblems it is useful for)  \\n- Description of the method (how this moving average a lgorithm works, how \\nthe moving average is calculated)  \\n- Python implementation (code is not required, but you can research Python \\nlibraries that will help implement this method and write a psydocode).  \\nAdditional literature sources that you may want to consult : \\nDigital Image Processing, by Rafael C. Gonzalez, Richard E. Woods  \\n14.  Present your work including approach and findings in class.  \\n15.  Prepare a written technical report of no longer than 15 pages to discuss the \\nproblem statement, various steps conducted, summary of findings and \\nconclusions. Submit the report and the notebook file (with proper headings, \\nexplanatory comments and code sections  and DO NOT zip or compress your files ) \\nby the midnight of April 2nd, 2023. '"
      ]
     },
     "execution_count": 20,
     "metadata": {},
     "output_type": "execute_result"
    }
   ],
   "source": [
    "text"
   ]
  },
  {
   "attachments": {},
   "cell_type": "markdown",
   "metadata": {},
   "source": [
    "## 2. Convert the Text into Speech\n",
    "- Use **pyttsx3** OR **gTTS**"
   ]
  },
  {
   "attachments": {},
   "cell_type": "markdown",
   "metadata": {},
   "source": [
    "### Install the library"
   ]
  },
  {
   "cell_type": "code",
   "execution_count": 23,
   "metadata": {},
   "outputs": [],
   "source": [
    "#!pip install pyttsx3"
   ]
  },
  {
   "attachments": {},
   "cell_type": "markdown",
   "metadata": {},
   "source": [
    "### Import the library"
   ]
  },
  {
   "cell_type": "code",
   "execution_count": 22,
   "metadata": {},
   "outputs": [],
   "source": [
    "from gtts import gTTS"
   ]
  },
  {
   "attachments": {},
   "cell_type": "markdown",
   "metadata": {},
   "source": [
    "### Initialize a Speaker object"
   ]
  },
  {
   "cell_type": "code",
   "execution_count": 24,
   "metadata": {},
   "outputs": [],
   "source": [
    "# Create a text-to-speech object\n",
    "tts = gTTS(text)"
   ]
  },
  {
   "attachments": {},
   "cell_type": "markdown",
   "metadata": {},
   "source": [
    "### Convert the text"
   ]
  },
  {
   "cell_type": "code",
   "execution_count": 25,
   "metadata": {},
   "outputs": [],
   "source": [
    "tts.save('audiofile.mp3')"
   ]
  }
 ],
 "metadata": {
  "kernelspec": {
   "display_name": "Python 3 (ipykernel)",
   "language": "python",
   "name": "python3"
  },
  "language_info": {
   "codemirror_mode": {
    "name": "ipython",
    "version": 3
   },
   "file_extension": ".py",
   "mimetype": "text/x-python",
   "name": "python",
   "nbconvert_exporter": "python",
   "pygments_lexer": "ipython3",
   "version": "3.9.15"
  }
 },
 "nbformat": 4,
 "nbformat_minor": 4
}
